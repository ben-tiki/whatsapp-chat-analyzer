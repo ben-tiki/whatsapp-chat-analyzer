{
 "cells": [
  {
   "cell_type": "markdown",
   "id": "45d06050",
   "metadata": {},
   "source": [
    "### Importing necessary libraries"
   ]
  },
  {
   "cell_type": "code",
   "execution_count": null,
   "id": "a20d32d8",
   "metadata": {},
   "outputs": [],
   "source": [
    "# for data managing\n",
    "import pandas as pd \n",
    "import numpy as np\n",
    "\n",
    "# for data visualization\n",
    "import matplotlib.pyplot as plt\n",
    "import seaborn as sns\n",
    "\n",
    "# for custom fonts\n",
    "import matplotlib.font_manager as font_manager\n",
    "\n",
    "# for data preprocessing\n",
    "import re \n",
    "import nltk\n",
    "from nltk.corpus import stopwords\n",
    "\n",
    "# for wordcloud\n",
    "import stylecloud\n",
    "\n",
    "# calendar heatmap\n",
    "np.random.seed(sum(map(ord, 'calmap')))\n",
    "import calmap"
   ]
  },
  {
   "cell_type": "markdown",
   "id": "b7994edf",
   "metadata": {},
   "source": [
    "### Cleaning up the data"
   ]
  },
  {
   "cell_type": "code",
   "execution_count": null,
   "id": "33cf882d",
   "metadata": {},
   "outputs": [],
   "source": [
    "from helpers import format_chat, set_datatypes"
   ]
  },
  {
   "cell_type": "code",
   "execution_count": null,
   "id": "8bcc886c",
   "metadata": {},
   "outputs": [],
   "source": [
    "df = format_chat('_chat.txt')\n",
    "df = set_datatypes(df)"
   ]
  },
  {
   "cell_type": "markdown",
   "id": "a8982af1",
   "metadata": {},
   "source": [
    "### Creating useful columns\n"
   ]
  },
  {
   "cell_type": "code",
   "execution_count": null,
   "id": "088fac0c",
   "metadata": {},
   "outputs": [],
   "source": [
    "from helpers import get_emoji"
   ]
  },
  {
   "cell_type": "code",
   "execution_count": null,
   "id": "42f6849d",
   "metadata": {},
   "outputs": [],
   "source": [
    "# time distribution\n",
    "df['hour'] = df['time'].dt.hour\n",
    "df['day'] = df['time'].dt.day.astype('category')\n",
    "df['month'] = df['time'].dt.month.astype('category')\n",
    "df['year'] = df['time'].dt.year.astype('category')\n",
    "df['weekday'] = df['time'].dt.day_name().astype('category')\n",
    "\n",
    "# message length and word count\n",
    "df['message_length'] = df['message'].apply(lambda x: len(x))\n",
    "df['word_count'] = df['message'].apply(lambda x: len(x.split()))\n",
    "\n",
    "# get emojis from message: INSERT YOUR LANGUAGE HERE (e.g. 'en')\n",
    "df['emojis'] = df['message'].apply(lambda x: get_emoji(x, language='es'))\n",
    "\n",
    "# get links\n",
    "df['links'] = df['message'].apply(lambda x: ' '.join(re.findall(r'(https?://\\S+)', x)))"
   ]
  },
  {
   "cell_type": "markdown",
   "id": "d5fc8434",
   "metadata": {},
   "source": [
    "### EDA"
   ]
  },
  {
   "cell_type": "markdown",
   "id": "27cd797d",
   "metadata": {},
   "source": [
    "#### Visualization Configuration"
   ]
  },
  {
   "cell_type": "code",
   "execution_count": null,
   "id": "05b39d20",
   "metadata": {},
   "outputs": [],
   "source": [
    "# import font, color palette and style for plots\n",
    "from config import VisualConfig"
   ]
  },
  {
   "cell_type": "markdown",
   "id": "43eebb04",
   "metadata": {},
   "source": [
    "#### Number of messages per user"
   ]
  },
  {
   "cell_type": "code",
   "execution_count": null,
   "id": "5f9fc0d7",
   "metadata": {},
   "outputs": [],
   "source": [
    "# pie chart of the number of messages per agent using matplotlib\n",
    "plt.pie(df['user'].value_counts(), labels=df['user'].value_counts().index, autopct='%1.1f%%')\n",
    "plt.title('Number of messages per user')\n",
    "plt.show()"
   ]
  },
  {
   "cell_type": "markdown",
   "id": "46222001",
   "metadata": {},
   "source": [
    "#### Message length per user"
   ]
  },
  {
   "cell_type": "code",
   "execution_count": null,
   "id": "8f7884db",
   "metadata": {},
   "outputs": [],
   "source": [
    "# plot the average message length per user and the average word count per user\n",
    "fig, ax = plt.subplots(1, 2)\n",
    "fig.set_size_inches(12, 6)\n",
    "sns.barplot(x='user', y='message_length', data=df, ax=ax[0])\n",
    "sns.barplot(x='user', y='word_count', data=df, ax=ax[1])\n",
    "ax[0].set_title('Average message length')\n",
    "ax[1].set_title('Average word count')\n",
    "plt.show()"
   ]
  },
  {
   "cell_type": "markdown",
   "id": "d542d99a",
   "metadata": {},
   "source": [
    "#### Number of messages per hour (per user)"
   ]
  },
  {
   "cell_type": "code",
   "execution_count": null,
   "id": "feeb70bd",
   "metadata": {},
   "outputs": [],
   "source": [
    "# using seaborn\n",
    "sns.countplot(x='hour', hue='user', data=df)\n",
    "plt.title('Number of messages per hour')\n",
    "plt.show()"
   ]
  },
  {
   "cell_type": "markdown",
   "id": "539f13b3",
   "metadata": {},
   "source": [
    "#### Messages per day of the week"
   ]
  },
  {
   "cell_type": "code",
   "execution_count": null,
   "id": "9eb3d7c6",
   "metadata": {},
   "outputs": [],
   "source": [
    "# histogram of number of messages per day of the week\n",
    "sns.countplot(x='weekday', data=df, order=['Monday', 'Tuesday', 'Wednesday', 'Thursday', 'Friday', 'Saturday', 'Sunday'])\n",
    "# make x-axis labels vertical\n",
    "plt.xticks(rotation=90)\n",
    "plt.title('Number of messages per day of the week')\n",
    "plt.show()"
   ]
  },
  {
   "cell_type": "markdown",
   "id": "654124a4",
   "metadata": {},
   "source": [
    "### Message heatmap"
   ]
  },
  {
   "cell_type": "code",
   "execution_count": null,
   "id": "3355c7e5",
   "metadata": {},
   "outputs": [],
   "source": [
    "fig = plt.figure(figsize=(20,8))\n",
    "calmap.yearplot(pd.Series(df.groupby(df.time).size()), year=2022, cmap='Greens')\n",
    "plt.suptitle('Calendar Heatmap', y=.7, fontsize=20)\n",
    "plt.show()"
   ]
  },
  {
   "cell_type": "markdown",
   "id": "918e7d9f",
   "metadata": {},
   "source": [
    "#### Weekday Histogram"
   ]
  },
  {
   "cell_type": "code",
   "execution_count": null,
   "id": "91419ba0",
   "metadata": {},
   "outputs": [],
   "source": [
    "palette = VisualConfig.palette\n",
    "df[\"q\"] = 1"
   ]
  },
  {
   "cell_type": "code",
   "execution_count": null,
   "id": "eba93bb5",
   "metadata": {},
   "outputs": [],
   "source": [
    "def weighted_hist(x, weights, **kwargs):\n",
    "    sns.kdeplot(x, weights=weights, **kwargs)\n",
    "\n",
    "sns.set(style='white', rc={'axes.facecolor': (0, 0, 0, 0)})\n",
    "g = sns.FacetGrid(df, row='weekday', hue='weekday', aspect=20, height=1.5, palette=palette)\n",
    "\n",
    "# draw the densities\n",
    "g.map(weighted_hist, 'hour', 'q', clip_on=False, shade=True, alpha=1, lw=1.5, bw_method=.2)\n",
    "g.map(weighted_hist, 'hour', 'q', clip_on=False, color='w', lw=3, bw_method=.2)\n",
    "g.map(plt.axhline, y=0, lw=1, clip_on=False)\n",
    "\n",
    "def label(x, color, label):\n",
    "    ax = plt.gca()\n",
    "    ax.text(0, 0.1, label, fontweight='bold', color=color, \n",
    "            ha='left', va='center', transform=ax.transAxes, \n",
    "            size=30)\n",
    "\n",
    "g.map(label, 'hour')\n",
    "g.set_xlabels('Time of day', fontsize=35)\n",
    "g.set_xticklabels(fontsize=25)\n",
    "\n",
    "# set the subplots to overlap\n",
    "g.fig.subplots_adjust(hspace=-0.5)\n",
    "g.fig.suptitle('Weekday Histogram', fontsize=35)   \n",
    "g.set_titles('')\n",
    "g.set(yticks=[])\n",
    "g.set(ylabel=None)\n",
    "g.despine(bottom=True, left=True)\n",
    "g.set(xticks=np.arange(0, 24, 1))\n",
    "plt.show()"
   ]
  },
  {
   "cell_type": "markdown",
   "id": "62f170fa",
   "metadata": {},
   "source": [
    "### WordCloud"
   ]
  },
  {
   "cell_type": "code",
   "execution_count": null,
   "id": "4a952e50",
   "metadata": {},
   "outputs": [],
   "source": [
    "from helpers import clean_text"
   ]
  },
  {
   "cell_type": "code",
   "execution_count": null,
   "id": "33ef989d",
   "metadata": {},
   "outputs": [],
   "source": [
    "text = ' '.join(df['message'].tolist())"
   ]
  },
  {
   "cell_type": "code",
   "execution_count": null,
   "id": "b0890abd",
   "metadata": {},
   "outputs": [],
   "source": [
    "tokens = clean_text(text)"
   ]
  },
  {
   "cell_type": "code",
   "execution_count": null,
   "id": "652f724b",
   "metadata": {},
   "outputs": [],
   "source": [
    "stopwords = set(stopwords.words('spanish'))\n",
    "newStopWords = ['audio','omitido','sticker','omitida','imagen', 'u200esticker', 'u200eaudio', \n",
    "                'si', 'jaja', 'dale', 'jajaja', 'voy', 'dalee', 'bien', 'ahi', 'va', 'igual', \n",
    "                'eu', 'sisi', 'q', 'videollamada', 'perdida', 'ok', 'oka']\n",
    "stopwords.update(newStopWords)\n",
    "\n",
    "# remove stopwords from tokens\n",
    "tokens = [word for word in tokens if not word in stopwords]"
   ]
  },
  {
   "cell_type": "code",
   "execution_count": null,
   "id": "78afc6a7",
   "metadata": {},
   "outputs": [],
   "source": [
    "# plot top 20 words\n",
    "fdist = nltk.FreqDist(tokens)\n",
    "# plot using matplotlib\n",
    "plt.title('Top 20 words')\n",
    "# include font to be lato\n",
    "plt.rcParams['font.family'] = 'Lato'\n",
    "fdist.plot(20, cumulative=False, color=palette[-1])\n",
    "plt.show()"
   ]
  },
  {
   "cell_type": "code",
   "execution_count": null,
   "id": "80b462cc",
   "metadata": {},
   "outputs": [],
   "source": [
    "stylecloud.gen_stylecloud(text=' '.join(tokens),\n",
    "                          icon_name='fas fa-cloud',\n",
    "                          background_color='white',\n",
    "                          colors = palette.as_hex(),\n",
    "                          gradient='horizontal',\n",
    "                          font_path='fonts\\Lato-Regular.ttf')\n",
    "                          \n",
    "# remove axis and borders\n",
    "plt.axis('off')\n",
    "plt.imshow(plt.imread('stylecloud.png'))\n",
    "plt.show()"
   ]
  },
  {
   "cell_type": "markdown",
   "id": "5ec32f1c",
   "metadata": {},
   "source": [
    "# Dataframe to desireded output"
   ]
  },
  {
   "cell_type": "code",
   "execution_count": null,
   "id": "4f2c8e3a",
   "metadata": {},
   "outputs": [],
   "source": [
    "df.to_csv('hola_ktal.csv', sep = ';')"
   ]
  }
 ],
 "metadata": {
  "kernelspec": {
   "display_name": "Python 3.9.7 64-bit",
   "language": "python",
   "name": "python3"
  },
  "language_info": {
   "codemirror_mode": {
    "name": "ipython",
    "version": 3
   },
   "file_extension": ".py",
   "mimetype": "text/x-python",
   "name": "python",
   "nbconvert_exporter": "python",
   "pygments_lexer": "ipython3",
   "version": "3.9.7"
  },
  "vscode": {
   "interpreter": {
    "hash": "db0e05d799ad150ff6f95b13eef15f09568f87966873a3b36fbb1aeeee34a4e4"
   }
  }
 },
 "nbformat": 4,
 "nbformat_minor": 5
}
